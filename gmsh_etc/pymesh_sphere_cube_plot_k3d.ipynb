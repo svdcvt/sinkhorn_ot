{
 "cells": [
  {
   "cell_type": "code",
   "execution_count": 1,
   "metadata": {},
   "outputs": [],
   "source": [
    "import pymesh\n",
    "import numpy as np\n",
    "import meshio\n",
    "\n",
    "# for cyclic coloring of edges\n",
    "\n",
    "import matplotlib.pyplot as plt\n",
    "import matplotlib as mpl\n",
    "from matplotlib import cm\n",
    "\n",
    "def colors(NUM_VALS):\n",
    "    cmap = cm.ScalarMappable(mpl.colors.Normalize(vmin=0, vmax=1), plt.get_cmap('Purples'))\n",
    "    attr = np.linspace(0, NUM_VALS, NUM_VALS) / NUM_VALS\n",
    "    colors = [(x, ) + cmap.to_rgba(x)[:3] for x in attr]\n",
    "    return dict(attribute=attr, color_map=colors)"
   ]
  },
  {
   "cell_type": "markdown",
   "metadata": {},
   "source": [
    "## Sphere"
   ]
  },
  {
   "cell_type": "code",
   "execution_count": 2,
   "metadata": {},
   "outputs": [
    {
     "data": {
      "text/plain": [
       "(3, 3, 2562, 5120, 0)"
      ]
     },
     "execution_count": 2,
     "metadata": {},
     "output_type": "execute_result"
    }
   ],
   "source": [
    "mesh = pymesh.generate_icosphere(radius=0.5, center=np.array([0, 0, 0]), refinement_order=4)\n",
    "mesh.dim, mesh.vertex_per_face, len(mesh.vertices), len(mesh.faces), len(mesh.voxels)"
   ]
  },
  {
   "cell_type": "code",
   "execution_count": 3,
   "metadata": {},
   "outputs": [
    {
     "data": {
      "application/vnd.jupyter.widget-view+json": {
       "model_id": "4dcdf4c3067b40a4b61183a817faf82f",
       "version_major": 2,
       "version_minor": 0
      },
      "text/plain": [
       "Output()"
      ]
     },
     "metadata": {},
     "output_type": "display_data"
    }
   ],
   "source": [
    "import k3d\n",
    "\n",
    "plot = k3d.plot()\n",
    "plot += k3d.mesh(mesh.vertices.astype(np.float32), mesh.faces.astype(np.uint32), wireframe=False, color=0xffff00, opacity=1)\n",
    "plot += k3d.mesh(mesh.vertices.astype(np.float32), mesh.faces.astype(np.uint32), wireframe=True, line_width=100,\n",
    "                 **colors(mesh.num_vertices))\n",
    "plot.display()"
   ]
  },
  {
   "cell_type": "code",
   "execution_count": 4,
   "metadata": {
    "scrolled": false
   },
   "outputs": [],
   "source": [
    "plot.camera = [1, 1, 1] + \\\n",
    "              [0, 0, 0] + \\\n",
    "              [0, 1, 0]"
   ]
  },
  {
   "cell_type": "markdown",
   "metadata": {},
   "source": [
    "## Cube"
   ]
  },
  {
   "cell_type": "code",
   "execution_count": 5,
   "metadata": {},
   "outputs": [
    {
     "data": {
      "text/plain": [
       "(3, 4, 125, 96, 64)"
      ]
     },
     "execution_count": 5,
     "metadata": {},
     "output_type": "execute_result"
    }
   ],
   "source": [
    "mesh = pymesh.generate_box_mesh(np.array([0., 0., 0.]),\n",
    "                                np.array([1.,1.,1.]), \n",
    "                                num_samples=4, \n",
    "                                using_simplex=False);\n",
    "mesh.dim, mesh.vertex_per_face, len(mesh.vertices), len(mesh.faces), len(mesh.voxels)"
   ]
  },
  {
   "cell_type": "code",
   "execution_count": 6,
   "metadata": {},
   "outputs": [],
   "source": [
    "# mesh.faces"
   ]
  },
  {
   "cell_type": "code",
   "execution_count": 7,
   "metadata": {},
   "outputs": [],
   "source": [
    "faces_quad_for_k3d = np.array([[fournodes[i], fournodes[(i+1)%4], fournodes[i]] \n",
    "                               for fournodes in mesh.faces for i in range(4)])"
   ]
  },
  {
   "cell_type": "code",
   "execution_count": 8,
   "metadata": {},
   "outputs": [
    {
     "data": {
      "application/vnd.jupyter.widget-view+json": {
       "model_id": "113ec3f23af145f6aa93b52789a268eb",
       "version_major": 2,
       "version_minor": 0
      },
      "text/plain": [
       "Output()"
      ]
     },
     "metadata": {},
     "output_type": "display_data"
    }
   ],
   "source": [
    "plot = k3d.plot()\n",
    "plot += k3d.mesh(mesh.vertices.astype(np.float32), faces_quad_for_k3d.astype(np.uint32), wireframe=True, color=0)\n",
    "plot.display()"
   ]
  },
  {
   "cell_type": "code",
   "execution_count": 9,
   "metadata": {},
   "outputs": [],
   "source": [
    "plot.grid_visible = False\n",
    "plot.camera = [1.7, -0.7, 1.7,\n",
    "              0.5, 0.5, 0.5,\n",
    "               -0.2, 0.2, 1]"
   ]
  },
  {
   "cell_type": "code",
   "execution_count": 10,
   "metadata": {},
   "outputs": [
    {
     "data": {
      "text/plain": [
       "(125, 192, 0)"
      ]
     },
     "execution_count": 10,
     "metadata": {},
     "output_type": "execute_result"
    }
   ],
   "source": [
    "# another way to visualise with k3d using triangulation\n",
    "box_tri = pymesh.quad_to_tri(mesh)\n",
    "len(box_tri.vertices), len(box_tri.faces), len(box_tri.voxels)"
   ]
  },
  {
   "cell_type": "code",
   "execution_count": 11,
   "metadata": {},
   "outputs": [
    {
     "data": {
      "application/vnd.jupyter.widget-view+json": {
       "model_id": "8fa3c76d444745c68266a8b00669ff16",
       "version_major": 2,
       "version_minor": 0
      },
      "text/plain": [
       "Output()"
      ]
     },
     "metadata": {},
     "output_type": "display_data"
    }
   ],
   "source": [
    "import k3d\n",
    "\n",
    "plot = k3d.plot()\n",
    "plot += k3d.mesh(box_tri.vertices.astype(np.float32), box_tri.faces.astype(np.uint32), wireframe=True, color=0)\n",
    "plot += k3d.mesh(box_tri.vertices.astype(np.float32), box_tri.faces.astype(np.uint32), wireframe=False, opacity=0.8, color=255)\n",
    "plot.display()"
   ]
  },
  {
   "cell_type": "code",
   "execution_count": 12,
   "metadata": {},
   "outputs": [],
   "source": [
    "plot.grid_visible = False\n",
    "plot.camera = [1.7, -0.7, 1.7,\n",
    "              0.5, 0.5, 0.5,\n",
    "               -0.2, 0.2, 1]"
   ]
  },
  {
   "cell_type": "code",
   "execution_count": null,
   "metadata": {},
   "outputs": [],
   "source": []
  }
 ],
 "metadata": {
  "kernelspec": {
   "display_name": "Python 3",
   "language": "python",
   "name": "python3"
  },
  "language_info": {
   "codemirror_mode": {
    "name": "ipython",
    "version": 3
   },
   "file_extension": ".py",
   "mimetype": "text/x-python",
   "name": "python",
   "nbconvert_exporter": "python",
   "pygments_lexer": "ipython3",
   "version": "3.8.11"
  }
 },
 "nbformat": 4,
 "nbformat_minor": 4
}
