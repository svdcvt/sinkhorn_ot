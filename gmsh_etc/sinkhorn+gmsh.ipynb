{
 "cells": [
  {
   "cell_type": "markdown",
   "metadata": {},
   "source": [
    "# Sinkhorn to GMSH and K3D plots"
   ]
  },
  {
   "cell_type": "code",
   "execution_count": 1,
   "metadata": {},
   "outputs": [],
   "source": [
    "import numpy as np"
   ]
  },
  {
   "cell_type": "markdown",
   "metadata": {},
   "source": [
    "## Disk"
   ]
  },
  {
   "cell_type": "code",
   "execution_count": 2,
   "metadata": {},
   "outputs": [],
   "source": [
    "binsize = 128\n",
    "vertices = np.load(f'../arrays/source_image_toeplitz_disk_{binsize}.npy')"
   ]
  },
  {
   "cell_type": "code",
   "execution_count": 3,
   "metadata": {},
   "outputs": [],
   "source": [
    "vertices = np.hstack((vertices,np.zeros((vertices.shape[0], 1)))) / vertices.max() * 0.5"
   ]
  },
  {
   "cell_type": "code",
   "execution_count": 4,
   "metadata": {},
   "outputs": [],
   "source": [
    "# meshes are enumerated from left bottom corner to top right corner\n",
    "# first changes x, then y\n",
    "\n",
    "# binsize=4\n",
    "\n",
    "#  node_tags:\n",
    "#  12 13 14 15\n",
    "#  8   9 10 11\n",
    "#  4   5  6  7\n",
    "#  0   1  2  3\n",
    "\n",
    "#  quad-node-tags:\n",
    "#  0-1-5-4,   1-2-6-5,    2-3-7-6\n",
    "#  4-5-9-8,   5-6-10-9,   6-7-11-10\n",
    "#  8-9-13-12, 9-10-14-13, 10-11-15-14\n",
    "\n",
    "quad_tags = np.array([[i + binsize * j,\n",
    "                       i + binsize * j + 1,\n",
    "                       i + binsize * j + binsize + 1,\n",
    "                       i + binsize * j + binsize ] \n",
    "                      for j in range(binsize - 1)\n",
    "                      for i in range(binsize - 1)])\n",
    "\n",
    "faces_quad_for_k3d = np.array([[fournodes[i],\n",
    "                                fournodes[(i+1) % 4],\n",
    "                                fournodes[i]] \n",
    "                               for fournodes in quad_tags \n",
    "                               for i in range(4)])"
   ]
  },
  {
   "cell_type": "code",
   "execution_count": 5,
   "metadata": {},
   "outputs": [
    {
     "data": {
      "application/vnd.jupyter.widget-view+json": {
       "model_id": "9d8c0cffa9244f128748f7e60e0e2b03",
       "version_major": 2,
       "version_minor": 0
      },
      "text/plain": [
       "Output()"
      ]
     },
     "metadata": {},
     "output_type": "display_data"
    }
   ],
   "source": [
    "import k3d\n",
    "\n",
    "plot = k3d.plot()\n",
    "plot += k3d.mesh(vertices.astype(np.float32), faces_quad_for_k3d.astype(np.uint32), wireframe=True, color=2)\n",
    "plot.display()"
   ]
  },
  {
   "cell_type": "code",
   "execution_count": 6,
   "metadata": {},
   "outputs": [],
   "source": [
    "plot.camera = [0.2, -0.4, 1,\n",
    "              0, 0, 0,\n",
    "              -0.5, 0.7, 0.4]"
   ]
  },
  {
   "cell_type": "code",
   "execution_count": 7,
   "metadata": {},
   "outputs": [],
   "source": [
    "import pymesh\n",
    "\n",
    "mesh = pymesh.meshio.form_mesh(vertices, quad_tags)\n",
    "pymesh.meshio.save_mesh('sinkhornmesh.msh', mesh)"
   ]
  },
  {
   "cell_type": "markdown",
   "metadata": {},
   "source": [
    "## Ball"
   ]
  },
  {
   "cell_type": "code",
   "execution_count": 8,
   "metadata": {},
   "outputs": [
    {
     "data": {
      "text/plain": [
       "(762048, 4)"
      ]
     },
     "execution_count": 8,
     "metadata": {},
     "output_type": "execute_result"
    }
   ],
   "source": [
    "binsize = 64\n",
    "vertices = np.load(f'../arrays/source_image_toeplitz_ball_{binsize}.npy')\n",
    "# vertices = np.load('../arrays/bins_ball_8.npy')\n",
    "vertices /= vertices.max()\n",
    "dim = 3\n",
    "# meshes are enumerated from left bottom corner to top right corner\n",
    "# first changes z, then x, then y\n",
    "\n",
    "# binsize = 4\n",
    "\n",
    "#  node_tags:\n",
    "#  3(19,35,51)   7(23,39,55)  11(27,43,59)  15(31,47,63)\n",
    "#  2(18,34,50)   6(22,38,54)  10(26,42,58)  14(30,46,62)\n",
    "#  1(17,33,49)   5(21,37,53)   9(25,41,57)  13(29,45,61)\n",
    "#  0(16,32,48)   4(20,36,52)   8(24,40,56)  12(28,44,60)\n",
    "\n",
    "# quad-node-tags:\n",
    "# ----------------------------\n",
    "# all quad on hyperplanes z*y\n",
    "# 0-1-17-16, 1-2-18-17, 2-3-19-18,| 4-5-21-20,...| 8... | 12-13-29-28, ..., 14-15-31-30, # 12\n",
    "# 16-17-33-32, ... | 20-21-37-36, ...|24 ... | 28..., 30-31-47-46,\n",
    "# 32-33-49-48, ... | 36 | 40 | 44 ..., 46-47-63-62\n",
    "\n",
    "zy = np.array([[k + binsize * j + binsize ** 2 * i,\n",
    "                k + binsize * j + binsize ** 2 * i + 1,\n",
    "                k + binsize * j + binsize ** 2 * i + 1 + binsize ** 2,\n",
    "                k + binsize * j + binsize ** 2 * i + binsize ** 2]\n",
    "            for i in range(binsize - 1)\n",
    "            for j in range(binsize)\n",
    "            for k in range(binsize - 1)\n",
    "            ])\n",
    "\n",
    "# all quad on hyperplanes x*y\n",
    "# 0-4-20-16, 1-5-21-17, 2-6-22-18, 3-7-23-19, | 4-8-24-20, 5-9-25-21,..., |8-12-28-24,...., 11-15-31-27,\n",
    "# 16-20-36-32, ..., 19-23-39-35,| 20 ...,|24 ..., 27-31-47-43,\n",
    "# 32-36-52-48, ..., | 36-40-56-52, ..., | 40-44-60-56, ..., 43-47-63-59\n",
    "\n",
    "xy = np.array([[k + binsize * j + binsize ** 2 * i, \n",
    "                k + binsize * j + binsize ** 2 * i + 1 * binsize,\n",
    "                k + binsize * j + binsize ** 2 * i + 1 * binsize + binsize ** 2,\n",
    "                k + binsize * j + binsize ** 2 * i + binsize ** 2]\n",
    "            for i in range(binsize - 1) \n",
    "            for j in range(binsize - 1)\n",
    "            for k in range(binsize)\n",
    "            ])\n",
    "\n",
    "# all quads on hyperplanes z*x\n",
    "# 0-1-5-4, 1-2-6-5, 2-3-7-6,| 4-5-9-8, ...| 8..., 10-11-15-14, \n",
    "# 16-17-21-20, ..., | 20...| 24, 26-27-31-30,\n",
    "# 32...,| 36..., | 40..., 42-43-47-46,\n",
    "# 48-49-53-52, ... | 52..., | 56..., 58-59-63-62\n",
    "\n",
    "\n",
    "zx = np.array([[k + binsize * j + binsize ** 2 * i,\n",
    "                k + binsize * j + binsize ** 2 * i + 1,\n",
    "                k + binsize * j + binsize ** 2 * i + 1 + binsize,\n",
    "                k + binsize * j + binsize ** 2 * i + binsize]\n",
    "            for i in range(binsize)\n",
    "            for j in range(binsize - 1)\n",
    "            for k in range(binsize - 1)\n",
    "            ])\n",
    "\n",
    "quad_tags = np.vstack([xy, zy, zx])\n",
    "quad_tags.shape"
   ]
  },
  {
   "cell_type": "code",
   "execution_count": 9,
   "metadata": {},
   "outputs": [],
   "source": [
    "faces_quad_for_k3d = np.array([[fournodes[i],\n",
    "                                fournodes[(i + 1) % 4],\n",
    "                                fournodes[i]] \n",
    "                               for fournodes in quad_tags \n",
    "                               for i in range(4)])"
   ]
  },
  {
   "cell_type": "code",
   "execution_count": 10,
   "metadata": {},
   "outputs": [
    {
     "data": {
      "text/plain": [
       "(262144, 250047, 762048)"
      ]
     },
     "execution_count": 10,
     "metadata": {},
     "output_type": "execute_result"
    }
   ],
   "source": [
    "# vertices, voxels, quads-fours\n",
    "binsize ** 3, (binsize - 1) ** 3, ((((binsize - 1) * (binsize - 1)) * binsize) * 3)"
   ]
  },
  {
   "cell_type": "code",
   "execution_count": 11,
   "metadata": {},
   "outputs": [
    {
     "data": {
      "application/vnd.jupyter.widget-view+json": {
       "model_id": "2864d44e19834e70aaf7b9f6ecb68792",
       "version_major": 2,
       "version_minor": 0
      },
      "text/plain": [
       "Output()"
      ]
     },
     "metadata": {},
     "output_type": "display_data"
    }
   ],
   "source": [
    "plot = k3d.plot()\n",
    "plot += k3d.mesh(vertices.astype(np.float32),\n",
    "                 faces_quad_for_k3d.astype(np.uint32)[::binsize*2],\n",
    "                 wireframe=True, color=2, linewidth=0.1)\n",
    "plot.display()"
   ]
  },
  {
   "cell_type": "markdown",
   "metadata": {},
   "source": [
    "# GMSH.gui + sinkhorn"
   ]
  },
  {
   "cell_type": "code",
   "execution_count": 12,
   "metadata": {},
   "outputs": [],
   "source": [
    "import gmsh\n",
    "\n",
    "gmsh.initialize()\n",
    "gmsh.open('sinkhornmesh.msh')\n",
    "c1 = gmsh.model.occ.addCircle(0., 0., 0., 0.5)\n",
    "cl = gmsh.model.occ.addCurveLoop([c1])\n",
    "gmsh.model.occ.synchronize()\n",
    "gmsh.fltk.run()\n",
    "gmsh.finalize()"
   ]
  },
  {
   "cell_type": "code",
   "execution_count": 13,
   "metadata": {},
   "outputs": [],
   "source": [
    "gmsh.initialize()\n",
    "\n",
    "# ----------------------- CREATE SHAPE --------------------------\n",
    "gmsh.model.add(\"Disk\")\n",
    "\n",
    "c1 = gmsh.model.occ.addCircle(0., 0., 0., 0.5)\n",
    "cl = gmsh.model.occ.addCurveLoop([c1])\n",
    "pl = gmsh.model.occ.addPlaneSurface([cl])\n",
    "\n",
    "gmsh.model.occ.synchronize()\n",
    "\n",
    "gmsh.option.setNumber(\"Mesh.RecombineAll\", 1)\n",
    "gmsh.model.mesh.setRecombine(2, pl)\n",
    "gmsh.option.setNumber(\"Mesh.Algorithm\", 6) # 2 6 7 8\n",
    "gmsh.option.setNumber(\"Mesh.RecombinationAlgorithm\", 2)\n",
    "\n",
    "# ----------------------- GENERATE ------------------------------\n",
    "\n",
    "gmsh.model.mesh.generate(2)\n",
    "gmsh.model.mesh.recombine()\n",
    "gmsh.model.mesh.refine()\n",
    "gmsh.model.mesh.recombine()\n",
    "gmsh.model.mesh.refine()\n",
    "gmsh.fltk.run()\n",
    "gmsh.finalize()"
   ]
  }
 ],
 "metadata": {
  "kernelspec": {
   "display_name": "Python 3",
   "language": "python",
   "name": "python3"
  },
  "language_info": {
   "codemirror_mode": {
    "name": "ipython",
    "version": 3
   },
   "file_extension": ".py",
   "mimetype": "text/x-python",
   "name": "python",
   "nbconvert_exporter": "python",
   "pygments_lexer": "ipython3",
   "version": "3.8.11"
  }
 },
 "nbformat": 4,
 "nbformat_minor": 4
}
